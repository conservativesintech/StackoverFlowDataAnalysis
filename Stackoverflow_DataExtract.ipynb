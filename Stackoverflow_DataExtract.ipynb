{
 "cells": [
  {
   "cell_type": "markdown",
   "metadata": {},
   "source": [
    "##  Data Extraction of StackOverflow Posts using BigQuery API in Kaggle\n",
    "\n",
    "In order to get the data from Stackoverflow I'm going to interact with the BigQuery api.  This will allow us to pull it from the source and give me an opportunity to have more of a real world type situation to bring the data I need together. I'm going extract SO posts from posts_questions table by running a big query within a given time period (e.g., \"01/2021-06/2021\") for wordpress and drupal tags."
   ]
  },
  {
   "cell_type": "markdown",
   "metadata": {},
   "source": [
    "### Tasks"
   ]
  },
  {
   "cell_type": "markdown",
   "metadata": {},
   "source": [
    "1. obtain the SO posts, i.e., questions and their answers, for a given tag (e.g., “wordpress”) within a given time period (e.g., \"01/2021-06/2021\")\n",
    "2. extract for each post 5 important metrics - answer_count, comment_count, favorite_count, view_count, score\n",
    "3. generate a csv file with one line per post, where each line contains an identifier for a post and the values for the 5 chosen metrics"
   ]
  },
  {
   "cell_type": "code",
   "execution_count": null,
   "metadata": {
    "_cell_guid": "b1076dfc-b9ad-4769-8c92-a6c4dae69d19",
    "_uuid": "8f2839f25d086af736a60e9eeb907d3b93b6e0e5",
    "execution": {
     "iopub.execute_input": "2021-12-19T14:40:09.387688Z",
     "iopub.status.busy": "2021-12-19T14:40:09.387392Z",
     "iopub.status.idle": "2021-12-19T14:40:09.393021Z",
     "shell.execute_reply": "2021-12-19T14:40:09.392196Z",
     "shell.execute_reply.started": "2021-12-19T14:40:09.387640Z"
    }
   },
   "outputs": [],
   "source": [
    "import pandas as pd\n",
    "import numpy as np\n",
    "import matplotlib\n",
    "from matplotlib import pyplot as plt\n",
    "import seaborn as sns\n",
    "import bq_helper # This allows us to interact with the bigquery api within Kaggle\n",
    "from bq_helper import BigQueryHelper\n",
    "# The default project for bigquery datasets is `bigquery-public-data`\n",
    "# The method bq_helper.BigQueryHelper gives us  the stackoverflow dataset\n",
    "stackOverflow = bq_helper.BigQueryHelper(active_project=\"bigquery-public-data\",dataset_name=\"stackoverflow\")"
   ]
  },
  {
   "cell_type": "code",
   "execution_count": 3,
   "metadata": {
    "_cell_guid": "b0442c95-01fa-4688-9a30-718347933e0f",
    "_uuid": "a3415035b50ece1df93c6573539798b929a597f5",
    "execution": {
     "iopub.execute_input": "2021-12-19T14:40:10.443745Z",
     "iopub.status.busy": "2021-12-19T14:40:10.443397Z",
     "iopub.status.idle": "2021-12-19T14:40:11.052613Z",
     "shell.execute_reply": "2021-12-19T14:40:11.051677Z",
     "shell.execute_reply.started": "2021-12-19T14:40:10.443671Z"
    }
   },
   "outputs": [],
   "source": [
    "bq_assistant = BigQueryHelper(\"bigquery-public-data\", \"stackoverflow\")\n",
    "bq_assistant.list_tables() #lets me understand which tables are are in the dataset"
   ]
  },
  {
   "cell_type": "code",
   "execution_count": 4,
   "metadata": {
    "execution": {
     "iopub.execute_input": "2021-12-19T14:40:35.604175Z",
     "iopub.status.busy": "2021-12-19T14:40:35.603766Z",
     "iopub.status.idle": "2021-12-19T14:40:36.354285Z",
     "shell.execute_reply": "2021-12-19T14:40:36.353265Z",
     "shell.execute_reply.started": "2021-12-19T14:40:35.604110Z"
    }
   },
   "outputs": [],
   "source": [
    "#Table to Potentially Use : posts_questions\n",
    "bq_assistant.head(\"posts_questions\",num_rows=5) "
   ]
  },
  {
   "cell_type": "code",
   "execution_count": 5,
   "metadata": {
    "execution": {
     "iopub.execute_input": "2021-12-19T14:40:44.687742Z",
     "iopub.status.busy": "2021-12-19T14:40:44.687447Z",
     "iopub.status.idle": "2021-12-19T14:40:44.719223Z",
     "shell.execute_reply": "2021-12-19T14:40:44.718018Z",
     "shell.execute_reply.started": "2021-12-19T14:40:44.687680Z"
    }
   },
   "outputs": [],
   "source": [
    "bq_assistant.table_schema(\"posts_questions\")"
   ]
  },
  {
   "cell_type": "code",
   "execution_count": 7,
   "metadata": {
    "execution": {
     "iopub.execute_input": "2021-12-19T14:50:47.665574Z",
     "iopub.status.busy": "2021-12-19T14:50:47.665227Z",
     "iopub.status.idle": "2021-12-19T14:50:52.640852Z",
     "shell.execute_reply": "2021-12-19T14:50:52.639835Z",
     "shell.execute_reply.started": "2021-12-19T14:50:47.665520Z"
    }
   },
   "outputs": [],
   "source": [
    "tag_list = ['wordpress', 'drupal']\n",
    "start_date = datetime.datetime(2021,1,1).strftime('%Y-%m-%d')\n",
    "end_date = datetime.datetime(2021,7,1).strftime('%Y-%m-%d')\n",
    "for tag in tag_list:\n",
    "    query = '''\n",
    "        select id,creation_date, tags,answer_count,comment_count,favorite_count,view_count,score\n",
    "        from `bigquery-public-data.stackoverflow.posts_questions`\n",
    "        where (tags like '%%|%s|%%' or tags like '%%|%s' or tags like '%s|%%')\n",
    "        and date(creation_date) >= '%s' and date(creation_date) <= '%s'\n",
    "        ''' % (tag, tag, tag,start_date ,end_date)\n",
    "    data=stackOverflow.query_to_pandas(query)\n",
    "    data.to_csv(tag+'.csv',index=False)"
   ]
  },
  {
   "cell_type": "markdown",
   "metadata": {},
   "source": [
    "NOTE: Kaggle is updating the data. Your result of running the code could be different¶"
   ]
  }
 ],
 "metadata": {
  "kernelspec": {
   "display_name": "Python 3",
   "language": "python",
   "name": "python3"
  },
  "language_info": {
   "codemirror_mode": {
    "name": "ipython",
    "version": 3
   },
   "file_extension": ".py",
   "mimetype": "text/x-python",
   "name": "python",
   "nbconvert_exporter": "python",
   "pygments_lexer": "ipython3",
   "version": "3.6.6"
  }
 },
 "nbformat": 4,
 "nbformat_minor": 4
}
